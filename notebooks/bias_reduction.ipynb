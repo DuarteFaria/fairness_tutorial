{
  "nbformat": 4,
  "nbformat_minor": 0,
  "metadata": {
    "kernelspec": {
      "display_name": "Python 3",
      "language": "python",
      "name": "python3"
    },
    "language_info": {
      "codemirror_mode": {
        "name": "ipython",
        "version": 3
      },
      "file_extension": ".py",
      "mimetype": "text/x-python",
      "name": "python",
      "nbconvert_exporter": "python",
      "pygments_lexer": "ipython3",
      "version": "3.8.5"
    },
    "colab": {
      "name": "bias_reduction.ipynb",
      "provenance": []
    }
  },
  "cells": [
    {
      "cell_type": "markdown",
      "metadata": {
        "id": "LCWsKViwBCGb"
      },
      "source": [
        "# Dealing with Bias and Fairness in Data Science Systems\n",
        "## KDD 2020 Hands-on Tutorial\n",
        "### Pedro Saleiro, Kit Rodolfa, Rayid Ghani"
      ]
    },
    {
      "cell_type": "markdown",
      "metadata": {
        "id": "GhyvHm28BCGm"
      },
      "source": [
        "# <font color=red>Exploring Bias Reduction Strategies</font>"
      ]
    },
    {
      "cell_type": "markdown",
      "metadata": {
        "id": "x_leP7UgBCGn"
      },
      "source": [
        "## 1. Install dependencies, import packages and data\n",
        "This is needed every time you open this notebook in **colab** to install dependencies"
      ]
    },
    {
      "cell_type": "code",
      "metadata": {
        "id": "x-7CO6qgBCGo"
      },
      "source": [
        "# packages not installed in colab\n",
        "!pip install aequitas==0.42.0\n",
        "!pip install fairlearn==0.4.6\n",
        "\n",
        "import yaml\n",
        "import os\n",
        "import pandas as pd\n",
        "import numpy as np\n",
        "import seaborn as sns\n",
        "from aequitas.group import Group\n",
        "from aequitas.bias import Bias\n",
        "from aequitas.fairness import Fairness\n",
        "import aequitas.plot as ap\n",
        "import matplotlib.pyplot as plt\n",
        "from sklearn.ensemble import RandomForestClassifier\n",
        "from sklearn.tree import DecisionTreeClassifier\n",
        "import fairlearn\n",
        "sns.set() \n",
        "DPI = 200\n",
        "DATAPATH = 'https://github.com/DuarteFaria/fairness_tutorial/raw/master/data/'"
      ],
      "execution_count": null,
      "outputs": []
    },
    {
      "cell_type": "markdown",
      "metadata": {
        "id": "fufCaCvSBCGp"
      },
      "source": [
        "## What has already happened?\n",
        "\n",
        "We've already cleaned data, generated features, created train-test sets, built 1000s of models on each training set and scored each test set with them, and calculated various evaluation metrics. \n",
        "\n",
        "As described earlier, the goal here is to select top 1000 project submissions that are likely to not get funded in order to prioritize resource allocation. That corresponds to the metric **Precision at top 1000**.\n",
        "\n",
        "### <font color=red>We audited the \"best\" model at precision at top 1000 and found that it has disparities for True Positive Rate for all attributes that we care about (poverty_level of the school, sex, and school_location_type)</font>\n"
      ]
    },
    {
      "cell_type": "markdown",
      "metadata": {
        "id": "vGKdx-tEBCGq"
      },
      "source": [
        "## What do we want to do now?\n",
        "\n",
        "1. Could we have picked a different model that was similar enough in \"precision at top 1000\" but less biased?\n"
      ]
    },
    {
      "cell_type": "markdown",
      "metadata": {
        "id": "RoUVpNbGBCGr"
      },
      "source": [
        "## Load predictions, labels, and attributes for all models that were built to audit\n",
        "\n",
        "We have trained 400 models using random sampling of hyperparameters for the following algorithms: RandomForest, Logistic Regression, MLP and LightGBM. The `evals_df` contains a table with the performance metrics for each model on the holdout test set."
      ]
    },
    {
      "cell_type": "code",
      "metadata": {
        "scrolled": true,
        "id": "FiFJ30eTBCGr"
      },
      "source": [
        "evals_df = pd.read_csv(DATAPATH +'split2_evals.csv.gz', compression='gzip')\n",
        "# Let's sort the models by Precision at top 1000 predicted positives (our performance metric of interest for this case study)\n",
        "evals_df.sort_values('model_precision', ascending = False)\n",
        "evals_df.head(10)"
      ],
      "execution_count": null,
      "outputs": []
    },
    {
      "cell_type": "markdown",
      "metadata": {
        "id": "dvnShh6qBCGs"
      },
      "source": [
        "### Spot-check the model with highest precision at 1000 to see what type it is"
      ]
    },
    {
      "cell_type": "code",
      "metadata": {
        "id": "56Xo9Sj7BCGt"
      },
      "source": [
        "print('Highest precision model classpath and hyperparameters: \\n\\n' , evals_df['model_classpath'][0], '\\n', evals_df['hyperparameters'][0])"
      ],
      "execution_count": null,
      "outputs": []
    },
    {
      "cell_type": "markdown",
      "metadata": {
        "id": "t2toAI6eBCGt"
      },
      "source": [
        "## Load pre-computed Aequitas audit results \n",
        "\n",
        "The `aequitas_df` contains a table with the bias audit results for the 400 models for all the attributes we care about (we pre-selected the metrics of interest for this tutorial). "
      ]
    },
    {
      "cell_type": "code",
      "metadata": {
        "id": "9JaYlPt6BCGu"
      },
      "source": [
        "aequitas_df = pd.read_csv(DATAPATH + 'split2_aequitas.csv.gz', compression='gzip')\n",
        "aequitas_df.head(10)"
      ],
      "execution_count": null,
      "outputs": []
    },
    {
      "cell_type": "markdown",
      "metadata": {
        "id": "ESHuzixfBCGu"
      },
      "source": [
        "Combining the `evals_df` with the `aequitas_df` allow us to get a clearer picture how the different models compare with each other in both performance and bias of our groups of interest. \n",
        "\n",
        "The `create_scatter_disparity_performance` method will help us to easily plot the 400 models bias-performance tradeoffs and it's going to be used throughout the notebook."
      ]
    },
    {
      "cell_type": "code",
      "metadata": {
        "id": "kuub5lBJBCGv"
      },
      "source": [
        "def create_scatter_disparity_performance(evals_df, aequitas_df,  attr_col, group_name, \n",
        "                                         performance_col='model_precision', bias_metric='tpr', flip_disparity=False, \n",
        "                                         mitigated_tag=None, mitigated_bdf=pd.DataFrame(), mitigated_performance=None, ylim=None):\n",
        "    disparity_df = aequitas_df.loc[(aequitas_df['attribute_name']==attr_col) & (aequitas_df['attribute_value']==group_name)].copy()\n",
        "    disparity_metric = bias_metric + '_disparity'\n",
        "    scatter_schema = ['model_uuid', performance_col, 'attribute_name', 'attribute_value', bias_metric, disparity_metric, 'model_tag']\n",
        "    if flip_disparity:\n",
        "        disparity_df[disparity_metric]= disparity_df.apply(lambda x: 1/x[disparity_metric] , axis=1)\n",
        "    scatter = pd.merge(evals_df, disparity_df, how='left', on=['model_uuid'], left_index=True, sort=True, copy=True)\n",
        "    scatter = scatter[['model_uuid', performance_col, 'attribute_name', 'attribute_value', bias_metric, disparity_metric]].copy()\n",
        "    scatter['model_tag'] = 'Other Models'\n",
        "    scatter.sort_values('model_precision', ascending = False, inplace=True, ignore_index=True)\n",
        "    scatter['model_tag'] = scatter.apply(lambda x: 'Highest Precision at 1000' if int(x.name) < 1 else x['model_tag'], axis=1)\n",
        "    if not mitigated_bdf.empty and mitigated_performance !=None:\n",
        "      mitigated_bdf[performance_col] = mitigated_performance\n",
        "      mitigated_bdf['model_tag'] = mitigated_tag\n",
        "      new_disparity_df = mitigated_bdf.loc[(mitigated_bdf['attribute_name']==attr_col) & (mitigated_bdf['attribute_value']==group_name)].copy()\n",
        "      if flip_disparity:\n",
        "        new_disparity_df[disparity_metric]= new_disparity_df.apply(lambda x: 1/x[disparity_metric] , axis=1)\n",
        "      scatter_new = new_disparity_df[[c for c in new_disparity_df.columns if c in scatter_schema]]\n",
        "      scatter_final = pd.concat([scatter, scatter_new], axis=0)\n",
        "    else:\n",
        "      scatter_final = scatter.copy()\n",
        "    ax = sns.scatterplot(\n",
        "        x='model_precision', y=disparity_metric, hue='model_tag',\n",
        "        data=scatter_final,\n",
        "        alpha=0.5, s=20,\n",
        "    )\n",
        "    if ylim:\n",
        "        plt.ylim(0, 10)\n",
        "    flip_placeholder = 'Flipped' if flip_disparity else ''\n",
        "    ax.set_title('{} {} vs.{} for {}:{}'.format(flip_placeholder, disparity_metric, performance_col, attr_col,group_name ), y=1.)\n",
        "    plt.gcf().set_size_inches((4, 3))\n",
        "    plt.legend(loc='upper left', fontsize='xx-small')\n",
        "\n",
        "    plt.gcf().set_dpi(DPI)\n",
        "    plt.show() "
      ],
      "execution_count": null,
      "outputs": []
    },
    {
      "cell_type": "markdown",
      "metadata": {
        "id": "v-5E4WXEBCGx"
      },
      "source": [
        "\n",
        "\n",
        "\n",
        "## Let's see if we could have picked a better model for fairness in Poverty Level\n",
        "\n",
        "Each point in the scatterplot represents a model. We highlight the model we picked before (highest global performance)."
      ]
    },
    {
      "cell_type": "code",
      "metadata": {
        "id": "JKGk7Nb7BCGy"
      },
      "source": [
        "create_scatter_disparity_performance(evals_df, aequitas_df, 'poverty_level', 'highest', flip_disparity=True )"
      ],
      "execution_count": null,
      "outputs": []
    },
    {
      "cell_type": "markdown",
      "metadata": {
        "id": "er-t6UkRBCGz"
      },
      "source": [
        "## Let's see if we could have picked a better model for fairness in Metro Type\n"
      ]
    },
    {
      "cell_type": "code",
      "metadata": {
        "id": "aZ9IrfXZBCGz"
      },
      "source": [
        "create_scatter_disparity_performance(evals_df, aequitas_df, 'metro_type', 'urban', flip_disparity=True, ylim=10 )"
      ],
      "execution_count": null,
      "outputs": []
    },
    {
      "cell_type": "markdown",
      "metadata": {
        "id": "iwlCk7f0BCG0"
      },
      "source": [
        "## Let's see if we could have picked a better model for fairness in Teacher sex\n",
        "\n"
      ]
    },
    {
      "cell_type": "code",
      "metadata": {
        "id": "Gsp20gfABCG0"
      },
      "source": [
        "create_scatter_disparity_performance(evals_df, aequitas_df, 'teacher_sex', 'female', flip_disparity=False )"
      ],
      "execution_count": null,
      "outputs": []
    },
    {
      "cell_type": "markdown",
      "metadata": {
        "id": "d8uhbws_BCG0"
      },
      "source": [
        "# Bias Reduction Strategies\n",
        "We will try a few different bias reduction strategies now and compare the audit results with the original models\n",
        "\n",
        "1. Re-Sampling\n",
        "2. Regularization (using Fairlearn package)\n",
        "3. Post-hoc adjustment\n"
      ]
    },
    {
      "cell_type": "markdown",
      "metadata": {
        "id": "LL0bTGUQBCG1"
      },
      "source": [
        "## <font color=\"red\">Bias Reduction Strategy 1: Re-Sampling</font>\n",
        "### Can resampling approaches help improve the fairness of our models?\n",
        "\n",
        "1. Load data\n",
        "2. Look at training data distributions\n",
        "3. Try Resampling in a few different ways\n",
        "4. Rebuild model(s) on resampled training data\n",
        "5. Predict on the test set\n",
        "6. Audit for Bias and Compare"
      ]
    },
    {
      "cell_type": "markdown",
      "metadata": {
        "id": "7Poipx2-BCG2"
      },
      "source": [
        "### What has already happened?\n",
        "\n",
        "We've already cleaned data, generated features, created train-test sets, built 1000s of models on each training set and scored each test set with them, and calculated various evaluation metrics. We then used these results to pick a \"best\" model in terms of performance on the \"accuracy\" metric we care about: **Precision at the top 1000** (corresponding to our goal of selecting 1000 project submissions that are most likely to not get funded in order to prioritize resource allocation).\n",
        "\n",
        "When we audited this selected model with Aequitas, however, we found biases across many attributes, including the poverty level of the schools. Here, we explore a methods based on resampling to reduce this bias in the selected model."
      ]
    },
    {
      "cell_type": "markdown",
      "metadata": {
        "id": "O7NNn_bzBCG2"
      },
      "source": [
        "### Load data"
      ]
    },
    {
      "cell_type": "code",
      "metadata": {
        "id": "6uH2g_cYBCG3"
      },
      "source": [
        "traindf = pd.read_csv(DATAPATH + 'train_20120501_20120801.csv.gz', compression='gzip')\n",
        "testdf = pd.read_csv(DATAPATH + 'test_20121201_20130201.csv.gz', compression='gzip')\n",
        "train_attrdf = pd.read_csv(DATAPATH + 'train_20120501_20120801_protected.csv.gz', compression='gzip')\n",
        "test_attrdf = pd.read_csv(DATAPATH + 'test_20121201_20130201_protected.csv.gz', compression='gzip')\n"
      ],
      "execution_count": null,
      "outputs": []
    },
    {
      "cell_type": "code",
      "metadata": {
        "id": "lO73U2-LBCG3"
      },
      "source": [
        "traindf.shape"
      ],
      "execution_count": null,
      "outputs": []
    },
    {
      "cell_type": "markdown",
      "metadata": {
        "id": "Sxb5Ylr9BCG4"
      },
      "source": [
        "### Load pre-built models and predictions\n",
        "\n",
        "The `evals_df` contains a table with the performance metrics for each model on the holdout test set."
      ]
    },
    {
      "cell_type": "code",
      "metadata": {
        "id": "ZBvExMBFBCG4"
      },
      "source": [
        "evals_df = pd.read_csv(DATAPATH +'split2_evals.csv.gz', compression='gzip')\n",
        "# Let's sort the models by Precision at top 1000 predicted positives (our performance metric of interest for this case study)\n",
        "evals_df.sort_values('model_precision', ascending = False)"
      ],
      "execution_count": null,
      "outputs": []
    },
    {
      "cell_type": "markdown",
      "metadata": {
        "id": "GqMFEkiIBCG4"
      },
      "source": [
        "### Take a look at the \"Best\" performing model"
      ]
    },
    {
      "cell_type": "code",
      "metadata": {
        "id": "rWJaKvUDBCG5"
      },
      "source": [
        "print('Highest precision model classpath and hyperparameters: \\n\\n' , evals_df['model_classpath'][0], '\\n', evals_df['hyperparameters'][0])"
      ],
      "execution_count": null,
      "outputs": []
    },
    {
      "cell_type": "code",
      "metadata": {
        "id": "w4fOOiYyBCG5"
      },
      "source": [
        "#Let's load the hyperparameters of the highest performance model to a dictionary\n",
        "import ast\n",
        "hyperparameters= ast.literal_eval(evals_df['hyperparameters'][0])"
      ],
      "execution_count": null,
      "outputs": []
    },
    {
      "cell_type": "code",
      "metadata": {
        "id": "2YHplfg4BCG6"
      },
      "source": [
        "# Since the model with highest performance is a RandomForestClassifier let's create a classifier with the fetched hyperparameters\n",
        "rf = RandomForestClassifier(**hyperparameters)"
      ],
      "execution_count": null,
      "outputs": []
    },
    {
      "cell_type": "code",
      "metadata": {
        "id": "XvC3tHxIBCG6"
      },
      "source": [
        "rf.__dict__"
      ],
      "execution_count": null,
      "outputs": []
    },
    {
      "cell_type": "markdown",
      "metadata": {
        "id": "vBozTaeTBCG7"
      },
      "source": [
        "### Defining label, group of interest and reference group for the attribute column we care about\n"
      ]
    },
    {
      "cell_type": "code",
      "metadata": {
        "id": "TXKzAkN0BCG7"
      },
      "source": [
        "label_col = 'quickstart_label'\n",
        "attribute_col = 'poverty_level'\n",
        "\n",
        "group_of_interest = 'highest'\n",
        "reference_group = 'lower'"
      ],
      "execution_count": null,
      "outputs": []
    },
    {
      "cell_type": "markdown",
      "metadata": {
        "id": "Z5GQ5QaGBCG7"
      },
      "source": [
        "### Look at training data distributions\n",
        "\n",
        "#### Poverty_level=Highest\n",
        "label_pos_poverty_highest =  P(poverty_level=highest | not_funded)\n",
        "\n",
        "label_neg_poverty_highest =  P(poverty_level=highest | funded)\n",
        "\n",
        "\n",
        "#### Poverty_level=Lower\n",
        "label_pos_poverty_lower =  P(poverty_level=lower | not_funded)\n",
        "\n",
        "label_neg_poverty_lower =  P(poverty_level=lower | funded)\n"
      ]
    },
    {
      "cell_type": "code",
      "metadata": {
        "id": "jjqPEGgVBCG8"
      },
      "source": [
        "train_attrdf[attribute_col].value_counts()"
      ],
      "execution_count": null,
      "outputs": []
    },
    {
      "cell_type": "code",
      "metadata": {
        "id": "EUxH-drcBCG8"
      },
      "source": [
        "label_pos_group_of_interest = traindf.loc[(train_attrdf[attribute_col]==group_of_interest) & (traindf[label_col] > 0)]\n",
        "label_neg_group_of_interest = traindf.loc[(train_attrdf[attribute_col]==group_of_interest) & (traindf[label_col] < 1.0)]"
      ],
      "execution_count": null,
      "outputs": []
    },
    {
      "cell_type": "code",
      "metadata": {
        "id": "EYs-0zhQBCG9"
      },
      "source": [
        "label_pos_reference_group = traindf.loc[(train_attrdf[attribute_col]==reference_group) & (traindf[label_col] > 0)]\n",
        "label_neg_reference_group = traindf.loc[(train_attrdf[attribute_col]==reference_group) & (traindf[label_col] < 1.0)]"
      ],
      "execution_count": null,
      "outputs": []
    },
    {
      "cell_type": "code",
      "metadata": {
        "id": "mDCu5nglBCG9"
      },
      "source": [
        "label_pos_group_of_interest.shape"
      ],
      "execution_count": null,
      "outputs": []
    },
    {
      "cell_type": "code",
      "metadata": {
        "id": "-YJkuMAVBCG9"
      },
      "source": [
        "label_neg_group_of_interest.shape"
      ],
      "execution_count": null,
      "outputs": []
    },
    {
      "cell_type": "code",
      "metadata": {
        "id": "kx62V8Z-BCG-"
      },
      "source": [
        "label_pos_reference_group.shape"
      ],
      "execution_count": null,
      "outputs": []
    },
    {
      "cell_type": "code",
      "metadata": {
        "id": "FsUPzmDmBCG-"
      },
      "source": [
        "label_neg_reference_group.shape"
      ],
      "execution_count": null,
      "outputs": []
    },
    {
      "cell_type": "code",
      "metadata": {
        "id": "fya10n7pBCG-"
      },
      "source": [
        "print('{} {} training set prevalence:'.format(group_of_interest, attribute_col), len(label_pos_group_of_interest) / len(train_attrdf[train_attrdf[attribute_col]==group_of_interest]))"
      ],
      "execution_count": null,
      "outputs": []
    },
    {
      "cell_type": "code",
      "metadata": {
        "id": "mNiY74brBCG-"
      },
      "source": [
        "print('{} {} training set prevalence:'.format(reference_group, attribute_col), len(label_pos_reference_group) / len(train_attrdf[train_attrdf[attribute_col]==reference_group]))"
      ],
      "execution_count": null,
      "outputs": []
    },
    {
      "cell_type": "markdown",
      "metadata": {
        "id": "U2PMpMY-BCG_"
      },
      "source": [
        "### What type of disparities do we see in the data distribution here?\n",
        "\n",
        "\n",
        "1.\n",
        "\n",
        "2.\n",
        "\n",
        "3.\n",
        "\n",
        "4.\n",
        "\n",
        "\n",
        "\n",
        "\n",
        "\n",
        "\n",
        "\n",
        "\n",
        "\n",
        "\n",
        "\n",
        "\n",
        "\n",
        "\n",
        "\n",
        "\n",
        "\n",
        "\n",
        "...\n",
        "\n",
        "\n",
        "\n",
        "\n",
        "\n"
      ]
    },
    {
      "cell_type": "markdown",
      "metadata": {
        "id": "Mueuo0Z5BCG_"
      },
      "source": [
        "### Let's now try resampling\n",
        "\n",
        "We can perform three types of resampling:\n",
        "\n",
        "1. Change the training data such that different poverty levels are distributed more uniformly but keep the distribution of labels the same within each poverty level P(poverty_level = highest) = P (poverty_level=lower)\n",
        "\n",
        "\n",
        "2. Change the training data such that different poverty levels have more uniform label distributions P(poverty_level = highest | not funded ) = P(poverty_level=lower | not funded)\n",
        "\n",
        "\n",
        "3. Change both\n"
      ]
    },
    {
      "cell_type": "markdown",
      "metadata": {
        "id": "GfmnoHaiBCG_"
      },
      "source": [
        "### Approach 2: Change the training data such that different poverty levels have more uniform label distributions "
      ]
    },
    {
      "cell_type": "code",
      "metadata": {
        "id": "1J7Y4y7_BCHA"
      },
      "source": [
        "print('Recapping the group of interest and reference we defined above: \\n\\n Attribute: {}\\n Group of interest: {}\\n Reference Group: {}'.format(attribute_col, group_of_interest, reference_group))"
      ],
      "execution_count": null,
      "outputs": []
    },
    {
      "cell_type": "code",
      "metadata": {
        "id": "ZogVdJwhBCHA"
      },
      "source": [
        "n_pos_group_of_interest = 3150\n",
        "n_neg_group_of_interest = 5000\n",
        "print('{} new training prevalence:'.format(group_of_interest), n_pos_group_of_interest / (n_pos_group_of_interest + n_neg_group_of_interest))"
      ],
      "execution_count": null,
      "outputs": []
    },
    {
      "cell_type": "code",
      "metadata": {
        "id": "gmR7_y75BCHB"
      },
      "source": [
        "n_pos_reference_group = 2500\n",
        "n_neg_reference_group  = 4000\n",
        "print('{} new training prevalence:'.format(reference_group), n_pos_reference_group / (n_pos_reference_group + n_neg_reference_group))"
      ],
      "execution_count": null,
      "outputs": []
    },
    {
      "cell_type": "code",
      "metadata": {
        "id": "5gaRbmmXBCHB"
      },
      "source": [
        "sample_pos_group_of_interest = label_pos_group_of_interest.sample(n=n_pos_group_of_interest, replace=False)\n",
        "sample_neg_group_of_interest = label_neg_group_of_interest.sample(n=n_neg_group_of_interest, replace=False)\n",
        "\n",
        "sample_pos_reference_group = label_pos_reference_group.sample(n=n_pos_reference_group, replace=False)\n",
        "sample_neg_reference_group = label_neg_reference_group.sample(n=n_neg_reference_group, replace=False)"
      ],
      "execution_count": null,
      "outputs": []
    },
    {
      "cell_type": "markdown",
      "metadata": {
        "id": "m_cjnfoHBCHB"
      },
      "source": [
        "#### Rebuild model on resampled training data"
      ]
    },
    {
      "cell_type": "code",
      "metadata": {
        "id": "cw8jXPCMBCHC"
      },
      "source": [
        "new_traindf = pd.concat([sample_pos_group_of_interest,sample_neg_group_of_interest,sample_pos_reference_group, sample_neg_reference_group], axis=0)\n",
        "y_train = new_traindf[label_col].values\n",
        "rf.fit(new_traindf.drop(['entity_id','as_of_date',label_col], axis = 1), y_train)"
      ],
      "execution_count": null,
      "outputs": []
    },
    {
      "cell_type": "markdown",
      "metadata": {
        "id": "UepAX6IMBCHC"
      },
      "source": [
        "#### Predict on the test set and calculate precision at 1000"
      ]
    },
    {
      "cell_type": "code",
      "metadata": {
        "id": "QKMRWyZKBCHC"
      },
      "source": [
        "y_pred = rf.predict_proba(testdf.drop(['entity_id','as_of_date',label_col], axis = 1))[:,1]\n",
        "new_preds = testdf[['entity_id','as_of_date',label_col]].copy()\n",
        "new_preds['predict_proba'] = y_pred\n",
        "new_preds = new_preds.sort_values('predict_proba', ascending = False).reset_index(drop=True).copy()\n",
        "new_preds['score'] = new_preds.apply(lambda x: 1.0 if int(x.name)  < 1000 else 0.0, axis=1)\n",
        "print('Model Precision: ', new_preds[new_preds['score'] > 0][label_col].sum() / 1000)"
      ],
      "execution_count": null,
      "outputs": []
    },
    {
      "cell_type": "markdown",
      "metadata": {
        "id": "NJeD9S3kBCHD"
      },
      "source": [
        "### Before and After: Run Aequitas\n",
        "\n",
        "For reference, let's start with looking at the \"best\" model we chose in terms of overall precision at 1,000:"
      ]
    },
    {
      "cell_type": "markdown",
      "metadata": {
        "id": "1hURSUfBBCHD"
      },
      "source": [
        "#### Load the predictions from the \"best\" model chosen earlier"
      ]
    },
    {
      "cell_type": "code",
      "metadata": {
        "id": "8Xh0cPkQBCHD"
      },
      "source": [
        "id_col='entity_id'\n",
        "date_col = 'as_of_date'\n",
        "top_k= 1000\n",
        "old_preds = pd.read_csv(DATAPATH + 'predictions_c598fbe93f4c218ac7d325fb478598f1.csv.gz', compression='gzip')\n",
        "old_attrdf = pd.read_csv(DATAPATH + 'test_20121201_20130201_protected.csv.gz', compression='gzip')\n",
        "\n",
        "old_df = pd.merge(old_preds, old_attrdf, how='left', on=[id_col, date_col], left_index=True, right_index=False, sort=True, copy=True)\n",
        "\n",
        "old_df = old_df.sort_values('predict_proba', ascending=False)\n",
        "old_df = old_df.rename(columns = {label_col:'label_value'}) # naming for Aequitas\n",
        "\n",
        "# create a \"score\" column with the predicted class (named \"score\" for use with Aequitas below)\n",
        "old_df['score'] = old_df.apply(lambda x: 1.0 if x.name in old_df.head(top_k).index.tolist() else 0, axis=1)"
      ],
      "execution_count": null,
      "outputs": []
    },
    {
      "cell_type": "markdown",
      "metadata": {
        "id": "CPRuJO-hBCHE"
      },
      "source": [
        "#### Before: Run Aequitas for the \"best\" model chosen earlier"
      ]
    },
    {
      "cell_type": "code",
      "metadata": {
        "id": "YKYNFKfoBCHE"
      },
      "source": [
        "g = Group()\n",
        "b = Bias()\n",
        "metrics = ['tpr']\n",
        "xtab_old, _ = g.get_crosstabs(old_df[['score','label_value','poverty_level','metro_type', 'teacher_sex']].copy())\n",
        "bdf_old = b.get_disparity_predefined_groups(xtab_old, original_df=old_df, ref_groups_dict={'poverty_level':'lower', 'metro_type':'suburban_rural', 'teacher_sex':'male'})\n",
        "\n",
        "ap.disparity(bdf_old, metrics, attribute_col, fairness_threshold=1.3)"
      ],
      "execution_count": null,
      "outputs": []
    },
    {
      "cell_type": "markdown",
      "metadata": {
        "id": "czhPBHq6BCHE"
      },
      "source": [
        "#### After: Audit for Bias for the new mitigated model  (keeping the attributes, reference groups, bias metric, and tolerance the same as before)"
      ]
    },
    {
      "cell_type": "code",
      "metadata": {
        "id": "8eHwrVbIBCHF"
      },
      "source": [
        "df = pd.merge(new_preds, test_attrdf, how='left', on=['entity_id','as_of_date'], left_index=True, right_index=False, sort=True, copy=True)\n",
        "df = df.rename(columns = {label_col:'label_value'})\n",
        "metrics = ['tpr']\n",
        "g = Group()\n",
        "xtab, _ = g.get_crosstabs(df[['score','label_value','poverty_level','metro_type', 'teacher_sex']].copy())\n",
        "b = Bias()\n",
        "bdf = b.get_disparity_predefined_groups(xtab, original_df=df, \n",
        "                                        ref_groups_dict={'poverty_level':'lower', 'metro_type':'suburban_rural', 'teacher_sex':'male'})"
      ],
      "execution_count": null,
      "outputs": []
    },
    {
      "cell_type": "code",
      "metadata": {
        "id": "MrvqYiTVBCHF"
      },
      "source": [
        "ap.disparity(bdf, metrics, 'poverty_level', fairness_threshold = 1.3)"
      ],
      "execution_count": null,
      "outputs": []
    },
    {
      "cell_type": "code",
      "metadata": {
        "scrolled": true,
        "id": "S4Vvxbh2BCHF"
      },
      "source": [
        "ap.disparity(bdf, metrics, 'metro_type', fairness_threshold = 1.3)"
      ],
      "execution_count": null,
      "outputs": []
    },
    {
      "cell_type": "code",
      "metadata": {
        "scrolled": true,
        "id": "Vv90O6GIBCHG"
      },
      "source": [
        "ap.disparity(bdf, metrics, 'teacher_sex', fairness_threshold = 1.3)"
      ],
      "execution_count": null,
      "outputs": []
    },
    {
      "cell_type": "markdown",
      "metadata": {
        "id": "bidtLk5fBCHG"
      },
      "source": [
        "#### We can also look at the raw metrics to see what's changed"
      ]
    },
    {
      "cell_type": "code",
      "metadata": {
        "id": "c48idVQuBCHG"
      },
      "source": [
        "absolute_metrics = g.list_absolute_metrics(xtab)\n",
        "xtab[['attribute_name', 'attribute_value'] + absolute_metrics]"
      ],
      "execution_count": null,
      "outputs": []
    },
    {
      "cell_type": "markdown",
      "metadata": {
        "id": "DbwFsqPoBCHH"
      },
      "source": [
        "#### Precision of the \"best\" model chosen earlier"
      ]
    },
    {
      "cell_type": "code",
      "metadata": {
        "id": "SMqQuqFrBCHH"
      },
      "source": [
        "old_df.loc[old_df['score']==1]['label_value'].mean()"
      ],
      "execution_count": null,
      "outputs": []
    },
    {
      "cell_type": "markdown",
      "metadata": {
        "id": "DExpwoKwBCHH"
      },
      "source": [
        "#### Precision of the new, fairness-aware model"
      ]
    },
    {
      "cell_type": "code",
      "metadata": {
        "id": "vp4UuzhkBCHI"
      },
      "source": [
        "df.loc[df['score']==1]['label_value'].mean()"
      ],
      "execution_count": null,
      "outputs": []
    },
    {
      "cell_type": "markdown",
      "metadata": {
        "id": "RvkyhjJ-BCHI"
      },
      "source": [
        "### Adding to the model selection (tradeoff) graph\n",
        "\n",
        "Finally, let's look at how this new option stacks up against what we plotted in our model selection process:"
      ]
    },
    {
      "cell_type": "code",
      "metadata": {
        "id": "aVnZCfsqBCHI"
      },
      "source": [
        "mitigated_precision = df.loc[df['score']==1]['label_value'].mean()\n",
        "plot_configs = {\n",
        "    'evals_df':evals_df, \n",
        "    'aequitas_df':aequitas_df,\n",
        "    'attr_col':'poverty_level', \n",
        "    'group_name':'highest',\n",
        "    'performance_col':'model_precision',\n",
        "    'bias_metric':'tpr', \n",
        "    'flip_disparity':True, \n",
        "    'mitigated_tag':'Resampling',\n",
        "    'mitigated_bdf':bdf, \n",
        "    'mitigated_performance':mitigated_precision, \n",
        "    'ylim':None\n",
        "}\n",
        "create_scatter_disparity_performance(**plot_configs)"
      ],
      "execution_count": null,
      "outputs": []
    },
    {
      "cell_type": "markdown",
      "metadata": {
        "id": "0_Akj9mkBCHJ"
      },
      "source": [
        "## <font color=red>Bias Reduction Strategy 2: Regularization (using Fairlearn package)</font>\n",
        "### <font color=red>In-Processing Fairness Improvement</font>"
      ]
    },
    {
      "cell_type": "markdown",
      "metadata": {
        "id": "EsTXCbRtBCHJ"
      },
      "source": [
        "### 1. Install dependencies, import packages and data\n",
        "This is needed every time you open this notebook in colab to install dependencies"
      ]
    },
    {
      "cell_type": "code",
      "metadata": {
        "id": "fmL5lUkNBCHJ"
      },
      "source": [
        "# Let's use the methods \n",
        "from fairlearn.reductions import ExponentiatedGradient, GridSearch, DemographicParity, TruePositiveRateDifference\n",
        "from fairlearn.metrics import selection_rate_group_summary"
      ],
      "execution_count": null,
      "outputs": []
    },
    {
      "cell_type": "markdown",
      "metadata": {
        "id": "LcxXBTAZBCHK"
      },
      "source": [
        "### What has already happened?\n",
        "\n",
        "We've already cleaned data, generated features, created train-test sets, built 1000s of models on each training set and scored each test set with them, and calculated various evaluation metrics. We then used these results to pick a \"best\" model in terms of performance on the \"accuracy\" metric we care about: **Precision at the top 1000** (corresponding to our goal of selecting 1000 project submissions that are most likely to not get funded in order to prioritize resource allocation).\n",
        "\n",
        "When we audited this selected model with Aequitas, however, we found biases across many attributes, including the poverty level of the schools. Here, we explore a method of using in-processing to train a fairness-aware classifier in order to reduce this bias."
      ]
    },
    {
      "cell_type": "markdown",
      "metadata": {
        "id": "31s0nAv8BCHK"
      },
      "source": [
        "### <font color=green>FairLearn - a reductions approach</font>\n",
        "\n",
        "[Paper](https://arxiv.org/pdf/1803.02453.pdf): _A Reductions Approach to Fair Classification_, 2018\n",
        "\n",
        "> We present a systematic approach for achievingfairness in a binary classification setting. Whilewe focus on two well-known quantitative defini-tions of fairness, our approach encompasses manyother  previously  studied  definitions  as  specialcases. The key idea is to __reduce fair classification__ to a __sequence  of  cost-sensitive__  classification problems, whose solutions yield a randomized classifier with the __lowest (empirical) error__ subject to  the  __desired  constraints__.   We  introduce  two reductions that work for any representation of the cost-sensitive  classifier  and  compare  favorably to prior baselines on a variety of data sets, while overcoming several of their disadvantages.\n",
        "\n",
        "[FairLearn Documentation](https://fairlearn.github.io/user_guide/mitigation.html#id17)\n",
        "\n",
        "\n",
        "\n",
        "### TLDR; \n",
        "\n",
        "- This approach poses Fair Learning as a constrained optimization problem: minimize the empirical error, subject to linear constraints of the fairness (e.g., TPR difference, demographic parity).\n",
        "- Solve the constrained optimization as a __cost-sensitive__ classification problem.\n",
        "- Obtain a __randomized classifier__, which implies they will create multiple base estimators.\n"
      ]
    },
    {
      "cell_type": "markdown",
      "metadata": {
        "id": "AccLcUo7BCHK"
      },
      "source": [
        "### Load train and test matrices as well as protected attributes"
      ]
    },
    {
      "cell_type": "code",
      "metadata": {
        "id": "CHsva0JvBCHL"
      },
      "source": [
        "traindf = pd.read_csv(DATAPATH + 'train_20120501_20120801.csv.gz', compression='gzip')\n",
        "testdf = pd.read_csv(DATAPATH + 'test_20121201_20130201.csv.gz', compression='gzip')\n",
        "train_attrdf = pd.read_csv(DATAPATH + 'train_20120501_20120801_protected.csv.gz', compression='gzip')\n",
        "test_attrdf = pd.read_csv(DATAPATH + 'test_20121201_20130201_protected.csv.gz', compression='gzip')"
      ],
      "execution_count": null,
      "outputs": []
    },
    {
      "cell_type": "markdown",
      "metadata": {
        "id": "vca6Xy8nBCHL"
      },
      "source": [
        "### Set up some parameters we'll need below and create matrices"
      ]
    },
    {
      "cell_type": "code",
      "metadata": {
        "id": "dovA5k2HBCHL"
      },
      "source": [
        "label_col = 'quickstart_label'\n",
        "date_col = 'as_of_date'\n",
        "id_col = 'entity_id'\n",
        "attr_col = 'poverty_level'\n",
        "exclude_cols = [label_col, date_col, id_col]\n",
        "\n",
        "top_k = 1000\n",
        "\n",
        "# aequitas parameters\n",
        "metrics = ['tpr']\n",
        "disparity_threshold = 1.3\n",
        "protected_attribute_ref_group = {attr_col:'lower'}\n",
        "\n",
        "\n",
        "X_train, y_train, A_train = traindf[[c for c in traindf.columns if c not in exclude_cols]].values, traindf[label_col].values, train_attrdf[[attr_col]]\n",
        "X_test,   y_test,   A_test   = testdf[[c for c in testdf.columns if c not in exclude_cols]].values,   testdf[label_col].values  , test_attrdf[[attr_col]]\n"
      ],
      "execution_count": null,
      "outputs": []
    },
    {
      "cell_type": "markdown",
      "metadata": {
        "id": "grvd19N9BCHM"
      },
      "source": [
        "### Setting up a fairness-improving classifier\n",
        "\n",
        "To account fairness during model training, we'll use the **Exponentiated Gradient** provided by the `fairlearn` module.\n",
        "\n",
        "\n",
        "Its hyperparameters are: \n",
        "- `estimator`: an estimator that implements the methods `fit(X, y, sample_weight)` and `predict(X)`.\n",
        "- `constraints`: fairness constraints.\n",
        "- `eps: float`: fairness threshold, i.e., how much constraint violation we support (defaults to 0.01). \n",
        "- `T: int`: maximum number of iterations (defaults to 50).\n",
        "- `nu: float`: convergence threshold for duality gap (defaults to None).\n",
        "- `eta_0: float`: initial learning rate (defaults to 2).\n",
        "- `run_linprog_step: bool`: whether to apply saddle point optimization to the convex hull of classifiers obtained so far, after each exponentiated gradient step (defaults to True)."
      ]
    },
    {
      "cell_type": "code",
      "metadata": {
        "id": "PEiXyRveBCHM"
      },
      "source": [
        "# NOTE: Exponentiated Gradient has a stoachastic component\n",
        "np.random.seed(0)"
      ],
      "execution_count": null,
      "outputs": []
    },
    {
      "cell_type": "markdown",
      "metadata": {
        "id": "kOLn4fSKBCHM"
      },
      "source": [
        "Notice that we're using `TruePositiveRateDifference` for our fairness constraint here since we care about equalizing **recall** (aka **tpr** aka **equality of opportunity**) across our subgroups:"
      ]
    },
    {
      "cell_type": "code",
      "metadata": {
        "scrolled": false,
        "id": "u0EJFRybBCHN"
      },
      "source": [
        "# Step 1. Define the constraint\n",
        "constraint = TruePositiveRateDifference()\n",
        "\n",
        "# Step 2. Define the base estimator (any estimator providing 'fit' and 'predict')\n",
        "# Note: we could have used other algorithm such as logistic regression or random forest\n",
        "base_estimator = DecisionTreeClassifier(max_depth=20, min_samples_leaf=10)\n",
        "\n",
        "# Step 3. Define the bias reducer algorithm you want to apply\n",
        "bias_reducer = ExponentiatedGradient(base_estimator, constraint, T=50)\n",
        "\n",
        "# Step 4. Fit the data (and provide the sensitive attributes)\n",
        "bias_reducer.fit(X_train, y_train, sensitive_features=A_train)"
      ],
      "execution_count": null,
      "outputs": []
    },
    {
      "cell_type": "markdown",
      "metadata": {
        "id": "RhEBc7ywBCHN"
      },
      "source": [
        "### Predict on our test set"
      ]
    },
    {
      "cell_type": "code",
      "metadata": {
        "id": "yKMr3bpWBCHN"
      },
      "source": [
        "# Step 5. Use the mitigator to make predictions \n",
        "y_pred = bias_reducer.predict(X_test)\n",
        "new_preds = testdf[['entity_id','as_of_date','quickstart_label']].copy()\n",
        "new_preds['score'] = y_pred"
      ],
      "execution_count": null,
      "outputs": []
    },
    {
      "cell_type": "markdown",
      "metadata": {
        "id": "tfQsNhN-BCHO"
      },
      "source": [
        "### Look at the output\n",
        "Notice that unlike many classifiers, the `ExponentiatedGradient` doesn't have a method for predicting a continuous score, just predicted classes of 0 or 1. How many projects did this model predict are at risk of going unfunded (that is, predicted class of 1)?"
      ]
    },
    {
      "cell_type": "code",
      "metadata": {
        "id": "XURsGCeWBCHO"
      },
      "source": [
        "new_preds['score'].value_counts()"
      ],
      "execution_count": null,
      "outputs": []
    },
    {
      "cell_type": "markdown",
      "metadata": {
        "id": "l3mMuxn3BCHO"
      },
      "source": [
        "It looks like about 6,500 projects are predicted as being at risk of going unfunded by this classifier, but unfortunately our program is resource-constrained and can only help 1,000 of them. At this point, if we wanted to pick out the 1,000 highest-risk projects (subject to our fairness constraint), we're a bit stuck: **the classifier doesn't give us any method for distinguishing higher-risk vs lower-risk projects!**\n",
        "\n",
        "Given this limitation, we might posit that a reasonable approach would be to pick 1,000 projects to intervene with from among these 6,500. Let's see what would happen if we did that..."
      ]
    },
    {
      "cell_type": "markdown",
      "metadata": {
        "id": "YrSepRmuBCHP"
      },
      "source": [
        "### Before and After: Run Aequitas\n",
        "\n",
        "For reference, let's start with looking at the \"best\" model we chose in terms of overall precision at 1,000:"
      ]
    },
    {
      "cell_type": "markdown",
      "metadata": {
        "id": "v-NzXc4ZBCHP"
      },
      "source": [
        "#### Load the predictions from the \"best\" model chosen earlier"
      ]
    },
    {
      "cell_type": "code",
      "metadata": {
        "id": "PQ8ya6syBCHP"
      },
      "source": [
        "old_preds = pd.read_csv(DATAPATH + 'predictions_c598fbe93f4c218ac7d325fb478598f1.csv.gz', compression='gzip')\n",
        "old_attrdf = pd.read_csv(DATAPATH + 'test_20121201_20130201_protected.csv.gz', compression='gzip')\n",
        "\n",
        "old_df = pd.merge(old_preds, old_attrdf, how='left', on=[id_col, date_col], left_index=True, right_index=False, sort=True, copy=True)\n",
        "\n",
        "old_df = old_df.sort_values('predict_proba', ascending=False)\n",
        "old_df = old_df.rename(columns = {label_col:'label_value'}) # naming for Aequitas\n",
        "\n",
        "# create a \"score\" column with the predicted class (named \"score\" for use with Aequitas below)\n",
        "old_df['score'] = old_df.apply(lambda x: 1.0 if x.name in old_df.head(top_k).index.tolist() else 0, axis=1)"
      ],
      "execution_count": null,
      "outputs": []
    },
    {
      "cell_type": "markdown",
      "metadata": {
        "id": "Ym7WAeVeBCHQ"
      },
      "source": [
        "#### Before: Run Aequitas for the \"best\" model chosen earlier"
      ]
    },
    {
      "cell_type": "code",
      "metadata": {
        "id": "3pDPjGrXBCHQ"
      },
      "source": [
        "g = Group()\n",
        "b = Bias()\n",
        "\n",
        "xtab_old, _ = g.get_crosstabs(old_df[['score', 'label_value', attr_col]].copy())\n",
        "bdf_old = b.get_disparity_predefined_groups(xtab_old, original_df=old_df, ref_groups_dict=protected_attribute_ref_group)\n",
        "\n",
        "ap.disparity(bdf_old, metrics, attr_col, fairness_threshold=disparity_threshold)"
      ],
      "execution_count": null,
      "outputs": []
    },
    {
      "cell_type": "markdown",
      "metadata": {
        "id": "VmTyj_v7BCHR"
      },
      "source": [
        "#### After: Run Aequitas for the new, fairness-aware model"
      ]
    },
    {
      "cell_type": "markdown",
      "metadata": {
        "id": "XVA-dBeNBCHR"
      },
      "source": [
        "Remember here that we would choose 1,000 at random from the 6,500 with predicted class 1, so the expected value for the recall disparity of this randomly-selected set would just be the value of full set (that is, the recall of each subgroup would, on average, be proportionally lower in the sub-sample):"
      ]
    },
    {
      "cell_type": "code",
      "metadata": {
        "id": "cxFYwUZuBCHR"
      },
      "source": [
        "df = pd.merge(new_preds, test_attrdf, how='left', on=['entity_id','as_of_date'], left_index=True, right_index=False, sort=True, copy=True)\n",
        "df = df.rename(columns = {label_col:'label_value'})\n",
        "\n",
        "g = Group()\n",
        "b = Bias()\n",
        "\n",
        "xtab, _ = g.get_crosstabs(df[['score','label_value',attr_col]].copy())\n",
        "bdf = b.get_disparity_predefined_groups(xtab, original_df=df, ref_groups_dict=protected_attribute_ref_group)\n",
        "\n",
        "ap.disparity(bdf, metrics, attr_col, fairness_threshold=disparity_threshold)"
      ],
      "execution_count": null,
      "outputs": []
    },
    {
      "cell_type": "markdown",
      "metadata": {
        "id": "QUXLDh9cBCHS"
      },
      "source": [
        "That looks pretty good! The new model appears to have reduced the disparity across poverty levels considerably relative to what we saw when training a model without a fairness constraint and choosing based on precision alone.\n",
        "\n",
        "However, the natural question here is where there is a fairness-accuracy trade-off here: What cost did we incur in terms of model performance, that is overall precision?"
      ]
    },
    {
      "cell_type": "markdown",
      "metadata": {
        "id": "p7isdEDwBCHS"
      },
      "source": [
        "#### Precision of the \"best\" model chosen earlier"
      ]
    },
    {
      "cell_type": "code",
      "metadata": {
        "id": "HbYjom9hBCHS"
      },
      "source": [
        "old_df.loc[old_df['score']==1]['label_value'].mean()"
      ],
      "execution_count": null,
      "outputs": []
    },
    {
      "cell_type": "markdown",
      "metadata": {
        "id": "mX69Fr-5BCHT"
      },
      "source": [
        "#### Precision of the new, fairness-aware model\n",
        "\n",
        "As above, we would be sampling from the 6,500 down to 1,000 but the expected value of precision in this sample would just be the mean label value in the full population:"
      ]
    },
    {
      "cell_type": "code",
      "metadata": {
        "id": "PB5LDSPpBCHT"
      },
      "source": [
        "df.loc[df['score']==1]['label_value'].mean()"
      ],
      "execution_count": null,
      "outputs": []
    },
    {
      "cell_type": "markdown",
      "metadata": {
        "id": "20V8gXOdBCHT"
      },
      "source": [
        "So, compared to the old model, this method has resulted in **quite a large trade-off in model performance to acheive fairness**. This is certainly in part a result of the lack of flexibility in the method not allowing us to provide a score threshold or top k size that we're interested in equalizing our fairness metric around and instead using a built-in threshold that yields 6,500 predicted positives when we're only able to intervene on 1,000. Unfortunately, this sort of inflexibility appears to be a common attribute of many in-processing methods available today.\n",
        "\n",
        "For context, the overall base rate (`df['label_value'].mean()`) is 0.338, so the drop-off in precision here is about half way from our previous model to simply choosing at random."
      ]
    },
    {
      "cell_type": "markdown",
      "metadata": {
        "id": "9TANXSROBCHU"
      },
      "source": [
        "### Adding to model selection\n",
        "\n",
        "Finally, let's look at how this new option stacks up against what we plotted in our model selection process:"
      ]
    },
    {
      "cell_type": "code",
      "metadata": {
        "id": "ryIptGjxBCHU"
      },
      "source": [
        "mitigated_precision = df.loc[df['score']==1]['label_value'].mean()\n",
        "plot_configs = {\n",
        "    'evals_df':evals_df, \n",
        "    'aequitas_df':aequitas_df,\n",
        "    'attr_col':'poverty_level', \n",
        "    'group_name':'highest',\n",
        "    'performance_col':'model_precision',\n",
        "    'bias_metric':'tpr', \n",
        "    'flip_disparity':True, \n",
        "    'mitigated_tag':'Fairlearn Reductions',\n",
        "    'mitigated_bdf':bdf, \n",
        "    'mitigated_performance':mitigated_precision, \n",
        "    'ylim':None\n",
        "}\n",
        "create_scatter_disparity_performance(**plot_configs)"
      ],
      "execution_count": null,
      "outputs": []
    },
    {
      "cell_type": "markdown",
      "metadata": {
        "id": "cMr7TuEyBCHV"
      },
      "source": [
        "## <font color=red>Bias Reduction Strategy 3: Post-Hoc Disparity Mitigation</font>"
      ]
    },
    {
      "cell_type": "markdown",
      "metadata": {
        "id": "iQffAP-7BCHV"
      },
      "source": [
        "### What has already happened?\n",
        "\n",
        "We've already cleaned data, generated features, created train-test sets, built 1000s of models on each training set and scored each test set with them, and calculated various evaluation metrics. We then used these results to pick a \"best\" model in terms of performance on the \"accuracy\" metric we care about: **Precision at the top 1000** (corresponding to our goal of selecting 1000 project submissions that are most likely to not get funded in order to prioritize resource allocation).\n",
        "\n",
        "When we audited this selected model with Aequitas, however, we found biases across many attributes, including the poverty level of the schools. Here, we explore a method of using post-hoc disparity mitigation to reduce this bias in the selected model."
      ]
    },
    {
      "cell_type": "markdown",
      "metadata": {
        "id": "j0B49rddBCHV"
      },
      "source": [
        "### <font color=green>Intro to Post-Hoc Bias Mitigation</font>\n",
        "\n",
        "![Diagram of Post-Hoc Adjustments](post_hoc_adj.png \"Post-Hoc Adjustments\")\n",
        "\n",
        "One approach to improving the fairness of our model is to make post-hoc adjustments to the thresholds used for each subgroup to choose the 1,000 projects on which to intervene. Because our fairness metric here (**recall** aka **tpr** aka **equality of opportunity**) is monatonically increasing with the depth of the score, we should be able to find score thresholds for each subgroup that will equalize this metric across the groups, subject to the constraint that we want to choose a total of 1,000 projects for our intervation.\n",
        "\n",
        "In short, here's how this will work (see the references below for a more detailed discussion):\n",
        "1. Train the model as usual on a training set, predict scores on a test set\n",
        "2. Split this test set by subgroups on our protected attribute (here, poverty level)\n",
        "3. Sort each subgroup by score and calculate the cumulative tpr/recall up to and including each row in the set, storing this \"rolling within-subgroup recall\" value\n",
        "4. Recombine the subgroups, and sort the entire set by this new value\n",
        "5. Take the top 1,000 projects from this re-ordered list and use it to calculate \"top k\" sizes for each subgroup that equalize recall\n",
        "6. Then, on a future test set, use these calculated subgroup list sizes to assess the impact of disparities and overall precision\n",
        "\n",
        "References:\n",
        "- Hardt, et al, [Equality of Opportunity in Supervised Learning](http://papers.nips.cc/paper/6373-equality-of-opportunity-in-supervised-learning)\n",
        "- Rodolfa, et al, [Case Study: Predictive Fairness to Reduce Misdemeanor Recidivism Through Social Service Interventions](https://dl.acm.org/doi/abs/10.1145/3351095.3372863?casa_token=zc196JJrqkkAAAAA:bPmqmKrA91esJhIxHPT4K1crWWb5JGcflVFDkTgODctMzLpUX50_56Kyyh4NJ2GTd_QSydqhNpjT)"
      ]
    },
    {
      "cell_type": "markdown",
      "metadata": {
        "id": "3S9TuFwZBCHW"
      },
      "source": [
        "### Load the train, test, and protected attributes from the first split"
      ]
    },
    {
      "cell_type": "code",
      "metadata": {
        "id": "WOmAqytxBCHW"
      },
      "source": [
        "split1_traindf = pd.read_csv(DATAPATH + 'train_20111101_20120201.csv.gz', compression='gzip')\n",
        "split1_testdf = pd.read_csv(DATAPATH + 'test_20120601_20120801.csv.gz', compression='gzip')\n",
        "split1_attrdf = pd.read_csv(DATAPATH + 'test_20120601_20120801_protected.csv.gz', compression='gzip')"
      ],
      "execution_count": null,
      "outputs": []
    },
    {
      "cell_type": "markdown",
      "metadata": {
        "id": "kV8orzJRBCHW"
      },
      "source": [
        "Let's just take a quick look at the data to make sure it makes sense:"
      ]
    },
    {
      "cell_type": "code",
      "metadata": {
        "id": "Cgdi0d4-BCHX"
      },
      "source": [
        "split1_traindf.head()"
      ],
      "execution_count": null,
      "outputs": []
    },
    {
      "cell_type": "markdown",
      "metadata": {
        "id": "0MIX4bk5BCHX"
      },
      "source": [
        "### Set up some parameters we'll need below\n",
        "\n",
        "Note that the classifier type and hyperparameters here are from the best-performing model we chose above based on precision on the top 1000."
      ]
    },
    {
      "cell_type": "code",
      "metadata": {
        "id": "1xOMRLZjBCHX"
      },
      "source": [
        "hyperparameters = {\n",
        "    'criterion': 'gini',\n",
        "    'max_depth': 30,\n",
        "    'max_features': 'sqrt',\n",
        "    'min_samples_leaf': 44,\n",
        "    'min_samples_split': 3,\n",
        "    'n_estimators': 87,\n",
        "    'n_jobs': -1,\n",
        "    'random_state': 213500298\n",
        "}\n",
        "clf = RandomForestClassifier(**hyperparameters)\n",
        "\n",
        "top_k = 1000\n",
        "\n",
        "label_col = 'quickstart_label'\n",
        "entity_col = 'entity_id'\n",
        "date_col = 'as_of_date'\n",
        "exclude_cols = [label_col, entity_col, date_col] # columns to exclude from the X matrices for the classifier\n",
        "\n",
        "protected_attribute_col = 'poverty_level'\n",
        "\n",
        "# Parameters for Aequitas\n",
        "\n",
        "metrics = ['tpr']\n",
        "disparity_threshold = 1.3\n",
        "protected_attribute_ref_group = {protected_attribute_col:'lower'}\n"
      ],
      "execution_count": null,
      "outputs": []
    },
    {
      "cell_type": "markdown",
      "metadata": {
        "id": "3FUq6b9ABCHY"
      },
      "source": [
        "### Train the model and predict on the test set"
      ]
    },
    {
      "cell_type": "code",
      "metadata": {
        "id": "Is4efgoeBCHY"
      },
      "source": [
        "# train\n",
        "y_train = split1_traindf[label_col].values\n",
        "clf.fit(split1_traindf.drop(exclude_cols, axis = 1), y_train)\n",
        "\n",
        "# test set predictions\n",
        "split1_preds = split1_testdf[[entity_col, date_col, label_col]].copy()\n",
        "split1_preds['predict_proba'] = clf.predict_proba(split1_testdf.drop(exclude_cols, axis = 1))[:,1]"
      ],
      "execution_count": null,
      "outputs": []
    },
    {
      "cell_type": "markdown",
      "metadata": {
        "id": "_hu0qxcIBCHY"
      },
      "source": [
        "Let's take a quick look at the predictions to make sure they look good:"
      ]
    },
    {
      "cell_type": "code",
      "metadata": {
        "id": "OKXGu5XrBCHZ"
      },
      "source": [
        "split1_preds.head()"
      ],
      "execution_count": null,
      "outputs": []
    },
    {
      "cell_type": "markdown",
      "metadata": {
        "id": "U5cMNi31BCHZ"
      },
      "source": [
        "### Combine predictions with protected attributes"
      ]
    },
    {
      "cell_type": "code",
      "metadata": {
        "id": "9SqcBrL7BCHZ"
      },
      "source": [
        "df = pd.merge(split1_preds, split1_attrdf, how='left', on=[entity_col,date_col], left_index=True, right_index=False, sort=True, copy=True)"
      ],
      "execution_count": null,
      "outputs": []
    },
    {
      "cell_type": "markdown",
      "metadata": {
        "id": "vIhm6sMwBCHa"
      },
      "source": [
        "### Sort by score, then split by protected attribute (poverty level)"
      ]
    },
    {
      "cell_type": "code",
      "metadata": {
        "id": "WspPp3xcBCHa"
      },
      "source": [
        "protected_attribute_groups = df[protected_attribute_col].unique()"
      ],
      "execution_count": null,
      "outputs": []
    },
    {
      "cell_type": "code",
      "metadata": {
        "id": "XGrbin_zBCHa"
      },
      "source": [
        "df = df.sort_values('predict_proba', ascending=False)\n",
        "subgroup_dfs = []\n",
        "for grp in protected_attribute_groups:\n",
        "    subgroup_dfs.append(df[df[protected_attribute_col]==grp].copy())"
      ],
      "execution_count": null,
      "outputs": []
    },
    {
      "cell_type": "markdown",
      "metadata": {
        "id": "0t7EXu40BCHa"
      },
      "source": [
        "### Calculate within-subgroup cumulative recall\n",
        "\n",
        "Here, we calculate the recall up to and including each row within the highest-poverty and lower-poverty subsets of the test set. Doing this allows us to recombine and sort the sets in a way that will let find recall-equalizing \"top k\" list sizes for each subgroup."
      ]
    },
    {
      "cell_type": "code",
      "metadata": {
        "id": "_Rf5s-elBCHb"
      },
      "source": [
        "for subgrp_df in subgroup_dfs:\n",
        "    subgrp_df['cumsum_recall'] = subgrp_df[label_col].cumsum() / subgrp_df[label_col].sum()"
      ],
      "execution_count": null,
      "outputs": []
    },
    {
      "cell_type": "markdown",
      "metadata": {
        "id": "G-ZFDYMUBCHb"
      },
      "source": [
        "### Recombine the subgroup sets and sort by this cumulative recall"
      ]
    },
    {
      "cell_type": "code",
      "metadata": {
        "id": "Hi1RhpnqBCHb"
      },
      "source": [
        "recall_df = pd.concat(subgroup_dfs, axis=0).sort_values('cumsum_recall', ascending=True)"
      ],
      "execution_count": null,
      "outputs": []
    },
    {
      "cell_type": "markdown",
      "metadata": {
        "id": "2Y1qI_OUBCHc"
      },
      "source": [
        "### Find subgroup sizes, holding the overall list size (1000) constant\n",
        "\n",
        "Now we can simply threshold this re-sorted list by `top_k` (here, 1000) to identify how many individuals from each group we should apply in the future.\n",
        "\n",
        "Notice here that each subgroup will still be ordered by their predicted score, but the scores will no longer be perfectly ordered across subgroups."
      ]
    },
    {
      "cell_type": "code",
      "metadata": {
        "id": "NhZiaMkmBCHc"
      },
      "source": [
        "new_pp = recall_df.head(top_k).copy()\n",
        "new_pp.tail()"
      ],
      "execution_count": null,
      "outputs": []
    },
    {
      "cell_type": "code",
      "metadata": {
        "id": "RDoSW9_3BCHc"
      },
      "source": [
        "new_pp[protected_attribute_col].value_counts()"
      ],
      "execution_count": null,
      "outputs": []
    },
    {
      "cell_type": "markdown",
      "metadata": {
        "id": "Oe7pPzKEBCHd"
      },
      "source": [
        "Let's just store this to re-use below:"
      ]
    },
    {
      "cell_type": "code",
      "metadata": {
        "id": "09YePtjHBCHd"
      },
      "source": [
        "subgroup_k = {} \n",
        "for grp in protected_attribute_groups:\n",
        "  subgroup_k[grp] = new_pp[protected_attribute_col].value_counts()[grp]"
      ],
      "execution_count": null,
      "outputs": []
    },
    {
      "cell_type": "markdown",
      "metadata": {
        "id": "tk27IdhWBCHd"
      },
      "source": [
        "### Apply these subgroup-specific sizes to future test set data\n",
        "\n",
        "Now we have calculated the number of projects we need to select from each poverty level, we can apply these to the most recent split to assess how well this method reduces the recall disparities we saw initially and whether this has any impact on the overall precision of the model."
      ]
    },
    {
      "cell_type": "markdown",
      "metadata": {
        "id": "kQ3seo19BCHe"
      },
      "source": [
        "### Load the predictions and protected attributes from the future test set\n",
        "\n",
        "Note that the predictions here correspond to the same model + hyperparameters we specified above"
      ]
    },
    {
      "cell_type": "code",
      "metadata": {
        "id": "Ii4zqMMEBCHe"
      },
      "source": [
        "split2_preds = pd.read_csv(DATAPATH + 'predictions_c598fbe93f4c218ac7d325fb478598f1.csv.gz', compression='gzip')\n",
        "split2_attrdf = pd.read_csv(DATAPATH + 'test_20121201_20130201_protected.csv.gz', compression='gzip')\n",
        "\n",
        "df2 = pd.merge(split2_preds, split2_attrdf, how='left', on=[entity_col, date_col], left_index=True, right_index=False, sort=True, copy=True)"
      ],
      "execution_count": null,
      "outputs": []
    },
    {
      "cell_type": "markdown",
      "metadata": {
        "id": "3vt5HH77BCHf"
      },
      "source": [
        "Take a quick look to make sure the data loaded without any issue:"
      ]
    },
    {
      "cell_type": "code",
      "metadata": {
        "id": "u4tDsibLBCHf"
      },
      "source": [
        "df2.head()"
      ],
      "execution_count": null,
      "outputs": []
    },
    {
      "cell_type": "markdown",
      "metadata": {
        "id": "UPDEH0hgBCHf"
      },
      "source": [
        "### Split the test set by poverty level to apply the thresholds"
      ]
    },
    {
      "cell_type": "code",
      "metadata": {
        "id": "d-X-194OBCHg"
      },
      "source": [
        "df2 = df2.sort_values('predict_proba', ascending=False)\n",
        "new_subgroup_dfs = {}\n",
        "for grp in protected_attribute_groups:\n",
        "    new_subgroup_dfs[grp] = df2[df2[protected_attribute_col]==grp].copy()"
      ],
      "execution_count": null,
      "outputs": []
    },
    {
      "cell_type": "markdown",
      "metadata": {
        "id": "Eamqd-IDBCHg"
      },
      "source": [
        "### Choose the number of projects from each subgroup found above\n",
        "\n",
        "Notice here that we're choosing the \"top k\" individuals within each subgroup based on their predicted score -- in a deployment, we wouldn't know the true labels to calculate recall values, which is why we had to go one step back in time to find these group sizes."
      ]
    },
    {
      "cell_type": "code",
      "metadata": {
        "id": "NbuXtx3CBCHg"
      },
      "source": [
        "pp_dfs = []\n",
        "for grp in protected_attribute_groups:\n",
        "    pp_dfs.append(new_subgroup_dfs[grp].head(subgroup_k[grp]))"
      ],
      "execution_count": null,
      "outputs": []
    },
    {
      "cell_type": "markdown",
      "metadata": {
        "id": "5yIYX71rBCHh"
      },
      "source": [
        "### Recombine and create a predicted class label for this resulting set\n",
        "That is, 1,000 projects with a label 1 chosen by this process and 0 otherwise"
      ]
    },
    {
      "cell_type": "code",
      "metadata": {
        "id": "AS-PAxNsBCHh"
      },
      "source": [
        "new_pp2 = pd.concat(pp_dfs, axis=0).sort_values('predict_proba', ascending=True)\n",
        "\n",
        "mitigated_df = df2.copy()\n",
        "mitigated_df = mitigated_df.rename(columns = {label_col:'label_value'}) # naming for Aequitas\n",
        "\n",
        "# create a \"score\" column with the predicted class (named \"score\" for use with Aequitas below)\n",
        "mitigated_df['score'] = mitigated_df.apply(lambda x: 1.0 if x.name in new_pp2.index.tolist() else 0, axis=1)"
      ],
      "execution_count": null,
      "outputs": []
    },
    {
      "cell_type": "markdown",
      "metadata": {
        "id": "8L8Ta8iMBCHh"
      },
      "source": [
        "for comparison, let's also look at the unmitigated result again..."
      ]
    },
    {
      "cell_type": "code",
      "metadata": {
        "id": "6RleAcwGBCHi"
      },
      "source": [
        "unadjusted_df = df2.sort_values('predict_proba', ascending=False).copy()\n",
        "unadjusted_df = unadjusted_df.rename(columns = {label_col:'label_value'}) # naming for Aequitas\n",
        "\n",
        "# create a \"score\" column with the predicted class (named \"score\" for use with Aequitas below)\n",
        "unadjusted_df['score'] = unadjusted_df.apply(lambda x: 1.0 if x.name in unadjusted_df.head(top_k).index.tolist() else 0, axis=1)"
      ],
      "execution_count": null,
      "outputs": []
    },
    {
      "cell_type": "markdown",
      "metadata": {
        "id": "itx_WklhBCHi"
      },
      "source": [
        "### Running Aequitas - Before and After"
      ]
    },
    {
      "cell_type": "markdown",
      "metadata": {
        "id": "P2bH2e5DBCHi"
      },
      "source": [
        "#### For the original score, without post-hoc adjustment for equity"
      ]
    },
    {
      "cell_type": "code",
      "metadata": {
        "id": "u10zX9s-BCHj"
      },
      "source": [
        "g = Group()\n",
        "b = Bias()\n",
        "\n",
        "xtab_unadjusted, _ = g.get_crosstabs(unadjusted_df[['score', 'label_value', protected_attribute_col]].copy())\n",
        "bdf_unadjusted = b.get_disparity_predefined_groups(xtab_unadjusted, original_df=unadjusted_df, ref_groups_dict=protected_attribute_ref_group)\n",
        "\n",
        "ap.disparity(bdf_unadjusted, metrics, protected_attribute_col, fairness_threshold=disparity_threshold)"
      ],
      "execution_count": null,
      "outputs": []
    },
    {
      "cell_type": "markdown",
      "metadata": {
        "id": "hN80f7jTBCHj"
      },
      "source": [
        "#### For the score, with post-hoc disparity mitigation"
      ]
    },
    {
      "cell_type": "code",
      "metadata": {
        "id": "82vbAuUFBCHj"
      },
      "source": [
        "g = Group()\n",
        "b = Bias()\n",
        "\n",
        "xtab_mitigated, _ = g.get_crosstabs(mitigated_df[['score', 'label_value', protected_attribute_col]].copy())\n",
        "bdf_mitigated = b.get_disparity_predefined_groups(xtab_mitigated, original_df=mitigated_df, ref_groups_dict=protected_attribute_ref_group)\n",
        "\n",
        "ap.disparity(bdf_mitigated, metrics, protected_attribute_col, fairness_threshold=disparity_threshold)"
      ],
      "execution_count": null,
      "outputs": []
    },
    {
      "cell_type": "markdown",
      "metadata": {
        "id": "7wvcVeC7BCHk"
      },
      "source": [
        "So, it looks the post-hoc adjustments have actually manage to mitigate the existing disparity pretty well (perhaps even over-shooting somewhat, though still within our fairness threshold of 1.3).\n",
        "\n",
        "However, the natural question here is where there is a fairness-accuracy trade-off here: What cost did we incur in terms of model performance, that is overall precision?"
      ]
    },
    {
      "cell_type": "markdown",
      "metadata": {
        "id": "v4cKuPcHBCHk"
      },
      "source": [
        "#### Before: Precision of the original, unadjusted score"
      ]
    },
    {
      "cell_type": "code",
      "metadata": {
        "id": "nTEGkSXYBCHk"
      },
      "source": [
        "unadjusted_df.loc[unadjusted_df['score']==1]['label_value'].mean()"
      ],
      "execution_count": null,
      "outputs": []
    },
    {
      "cell_type": "markdown",
      "metadata": {
        "id": "4lvIaCaxBCHl"
      },
      "source": [
        "#### After: Precision of the new, disparity-mitigated score"
      ]
    },
    {
      "cell_type": "code",
      "metadata": {
        "id": "yvWiuprGBCHl"
      },
      "source": [
        "mitigated_df.loc[mitigated_df['score']==1]['label_value'].mean()"
      ],
      "execution_count": null,
      "outputs": []
    },
    {
      "cell_type": "markdown",
      "metadata": {
        "id": "LB8aUGMMBCHl"
      },
      "source": [
        "Somewhat surprisingly, we actually don't seem to see any trade-off with the disparity mitigation here!"
      ]
    },
    {
      "cell_type": "markdown",
      "metadata": {
        "id": "upyr2-cTBCHm"
      },
      "source": [
        "### Adding to the model selection (tradeoff) graph\n",
        "\n",
        "Finally, let's look at how this new option stacks up against what we plotted in our model selection process:"
      ]
    },
    {
      "cell_type": "code",
      "metadata": {
        "id": "h8bEpTE6BCHm"
      },
      "source": [
        "mitigated_precision = mitigated_df.loc[mitigated_df['score']==1]['label_value'].mean()\n",
        "plot_configs = {\n",
        "    'evals_df':evals_df, \n",
        "    'aequitas_df':aequitas_df,\n",
        "    'attr_col':'poverty_level', \n",
        "    'group_name':'highest',\n",
        "    'performance_col':'model_precision',\n",
        "    'bias_metric':'tpr', \n",
        "    'flip_disparity':True, \n",
        "    'mitigated_tag':'Equalizing Recall',\n",
        "    'mitigated_bdf':bdf_mitigated, \n",
        "    'mitigated_performance':mitigated_precision, \n",
        "    'ylim':None\n",
        "}\n",
        "create_scatter_disparity_performance(**plot_configs)"
      ],
      "execution_count": null,
      "outputs": []
    }
  ]
}